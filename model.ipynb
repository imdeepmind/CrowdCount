{
  "nbformat": 4,
  "nbformat_minor": 0,
  "metadata": {
    "kernelspec": {
      "display_name": "Python 3",
      "language": "python",
      "name": "python3"
    },
    "language_info": {
      "codemirror_mode": {
        "name": "ipython",
        "version": 3
      },
      "file_extension": ".py",
      "mimetype": "text/x-python",
      "name": "python",
      "nbconvert_exporter": "python",
      "pygments_lexer": "ipython3",
      "version": "3.6.9"
    },
    "colab": {
      "name": "model.ipynb",
      "provenance": [],
      "include_colab_link": true
    },
    "accelerator": "GPU"
  },
  "cells": [
    {
      "cell_type": "markdown",
      "metadata": {
        "id": "view-in-github",
        "colab_type": "text"
      },
      "source": [
        "<a href=\"https://colab.research.google.com/github/imdeepmind/CrowdCount/blob/master/model.ipynb\" target=\"_parent\"><img src=\"https://colab.research.google.com/assets/colab-badge.svg\" alt=\"Open In Colab\"/></a>"
      ]
    },
    {
      "cell_type": "code",
      "metadata": {
        "id": "mW8CsN5QI4eL",
        "colab_type": "code",
        "outputId": "88ca8070-ecb4-4874-8b57-f97304465961",
        "colab": {
          "base_uri": "https://localhost:8080/",
          "height": 125
        }
      },
      "source": [
        "from google.colab import drive\n",
        "drive.mount('/content/drive')"
      ],
      "execution_count": 1,
      "outputs": [
        {
          "output_type": "stream",
          "text": [
            "Go to this URL in a browser: https://accounts.google.com/o/oauth2/auth?client_id=947318989803-6bn6qk8qdgf4n4g3pfee6491hc0brc4i.apps.googleusercontent.com&redirect_uri=urn%3aietf%3awg%3aoauth%3a2.0%3aoob&response_type=code&scope=email%20https%3a%2f%2fwww.googleapis.com%2fauth%2fdocs.test%20https%3a%2f%2fwww.googleapis.com%2fauth%2fdrive%20https%3a%2f%2fwww.googleapis.com%2fauth%2fdrive.photos.readonly%20https%3a%2f%2fwww.googleapis.com%2fauth%2fpeopleapi.readonly\n",
            "\n",
            "Enter your authorization code:\n",
            "··········\n",
            "Mounted at /content/drive\n"
          ],
          "name": "stdout"
        }
      ]
    },
    {
      "cell_type": "code",
      "metadata": {
        "id": "vIOPE4irI0-p",
        "colab_type": "code",
        "colab": {}
      },
      "source": [
        "!mkdir data\n",
        "!mkdir data/processed\n",
        "!unzip -qq /content/drive/My\\ Drive/Projects/Crowd\\ Count/Dataset/dataset.zip -d ./data"
      ],
      "execution_count": 0,
      "outputs": []
    },
    {
      "cell_type": "code",
      "metadata": {
        "id": "0XwRhiq_YkbP",
        "colab_type": "code",
        "colab": {}
      },
      "source": [
        "LABELS_FILE=\"data/labels.csv\"\n",
        "READ_FOLDER=\"data/frames/\"\n",
        "SAVE_FOLDER=\"data/processed/\"\n",
        "IMAGE_SIZE=555\n",
        "IMAGE_CHANNEL=1\n",
        "BATCH_SIZE=32\n",
        "EPOCHS=100"
      ],
      "execution_count": 0,
      "outputs": []
    },
    {
      "cell_type": "code",
      "metadata": {
        "id": "6s-vbVOlKR-R",
        "colab_type": "code",
        "colab": {}
      },
      "source": [
        "from os.path import join\n",
        "import cv2\n",
        "\n",
        "def process_images(read_folder, save_folder, file):\n",
        "    read_path = join(read_folder, file)\n",
        "    save_path = join(save_folder, file)\n",
        "\n",
        "    img = cv2.imread(read_path, 0)\n",
        "    img = cv2.resize(img, (IMAGE_SIZE,IMAGE_SIZE))\n",
        "\n",
        "    cv2.imwrite(save_path, img)\n",
        "\n",
        "    return save_path"
      ],
      "execution_count": 0,
      "outputs": []
    },
    {
      "cell_type": "code",
      "metadata": {
        "id": "mkyJCQ0CK-JW",
        "colab_type": "code",
        "outputId": "e740b532-01df-4ee9-8bb5-0c6b69e41b41",
        "colab": {
          "base_uri": "https://localhost:8080/",
          "height": 34
        }
      },
      "source": [
        "import pandas as pd\n",
        "\n",
        "data = pd.read_csv(LABELS_FILE)\n",
        "labels = data[\"count\"].values\n",
        "print(labels[0:10])"
      ],
      "execution_count": 5,
      "outputs": [
        {
          "output_type": "stream",
          "text": [
            "[35 41 41 44 41 41 35 36 27 24]\n"
          ],
          "name": "stdout"
        }
      ]
    },
    {
      "cell_type": "code",
      "metadata": {
        "id": "LJtyH-QsLLev",
        "colab_type": "code",
        "outputId": "73e4bfb7-e8d4-4d69-dbe4-296dc0789a83",
        "colab": {
          "base_uri": "https://localhost:8080/",
          "height": 34
        }
      },
      "source": [
        "from os import listdir\n",
        "from tqdm import tqdm\n",
        "\n",
        "images = listdir(READ_FOLDER)\n",
        "\n",
        "dataset = []\n",
        "\n",
        "for index, image in tqdm(enumerate(images)):\n",
        "    save_path = process_images(READ_FOLDER, SAVE_FOLDER, image)\n",
        "    dataset.append([save_path, labels[index]])"
      ],
      "execution_count": 6,
      "outputs": [
        {
          "output_type": "stream",
          "text": [
            "2000it [00:11, 180.60it/s]\n"
          ],
          "name": "stderr"
        }
      ]
    },
    {
      "cell_type": "code",
      "metadata": {
        "id": "ZDQuYHsHMERi",
        "colab_type": "code",
        "outputId": "8d289579-9c5f-49fb-b1e3-1328b2be6b39",
        "colab": {
          "base_uri": "https://localhost:8080/",
          "height": 54
        }
      },
      "source": [
        "print(dataset[0:10])"
      ],
      "execution_count": 7,
      "outputs": [
        {
          "output_type": "stream",
          "text": [
            "[['data/processed/seq_000019.jpg', 35], ['data/processed/seq_001959.jpg', 41], ['data/processed/seq_001231.jpg', 41], ['data/processed/seq_000884.jpg', 44], ['data/processed/seq_000874.jpg', 41], ['data/processed/seq_000845.jpg', 41], ['data/processed/seq_000014.jpg', 35], ['data/processed/seq_001701.jpg', 36], ['data/processed/seq_000499.jpg', 27], ['data/processed/seq_000677.jpg', 24]]\n"
          ],
          "name": "stdout"
        }
      ]
    },
    {
      "cell_type": "code",
      "metadata": {
        "id": "O4dTSiL-Mj2J",
        "colab_type": "code",
        "outputId": "fc5c7137-b0c4-4630-9c34-2da007da8eb6",
        "colab": {
          "base_uri": "https://localhost:8080/",
          "height": 123
        }
      },
      "source": [
        "import pandas as pd\n",
        "\n",
        "df = pd.DataFrame(dataset, columns=[\"path\", \"count\"])\n",
        "\n",
        "print(df.head())"
      ],
      "execution_count": 8,
      "outputs": [
        {
          "output_type": "stream",
          "text": [
            "                            path  count\n",
            "0  data/processed/seq_000019.jpg     35\n",
            "1  data/processed/seq_001959.jpg     41\n",
            "2  data/processed/seq_001231.jpg     41\n",
            "3  data/processed/seq_000884.jpg     44\n",
            "4  data/processed/seq_000874.jpg     41\n"
          ],
          "name": "stdout"
        }
      ]
    },
    {
      "cell_type": "code",
      "metadata": {
        "id": "6sQ3HBrIMt-P",
        "colab_type": "code",
        "colab": {}
      },
      "source": [
        "df.to_csv(\"data/processed.csv\", index=False)"
      ],
      "execution_count": 0,
      "outputs": []
    },
    {
      "cell_type": "code",
      "metadata": {
        "id": "TDxlu0sQP3Re",
        "colab_type": "code",
        "outputId": "3e33c372-7022-4f2b-89af-77530b59e2fe",
        "colab": {
          "base_uri": "https://localhost:8080/",
          "height": 34
        }
      },
      "source": [
        "import numpy as np\n",
        "\n",
        "train_data, validation_data, test_data = np.split(df.sample(frac=1), [int(.8*len(df)), int(.9*len(df))])\n",
        "\n",
        "print(train_data.shape, validation_data.shape, test_data.shape)"
      ],
      "execution_count": 10,
      "outputs": [
        {
          "output_type": "stream",
          "text": [
            "(1600, 2) (200, 2) (200, 2)\n"
          ],
          "name": "stdout"
        }
      ]
    },
    {
      "cell_type": "code",
      "metadata": {
        "id": "qxa6vBi5MyqY",
        "colab_type": "code",
        "colab": {}
      },
      "source": [
        "from tensorflow.keras.preprocessing.image import ImageDataGenerator\n",
        "\n",
        "train_generator = ImageDataGenerator(\n",
        "    rotation_range=360,\n",
        "    rescale=1./255,\n",
        "    horizontal_flip=True,\n",
        "\tvertical_flip=True\n",
        ")\n",
        "\n",
        "test_generator = ImageDataGenerator(rescale=1./255)"
      ],
      "execution_count": 0,
      "outputs": []
    },
    {
      "cell_type": "code",
      "metadata": {
        "id": "YXY3zAUOPzUm",
        "colab_type": "code",
        "outputId": "9be1d488-f995-4853-f403-9598795233ac",
        "colab": {
          "base_uri": "https://localhost:8080/",
          "height": 70
        }
      },
      "source": [
        "train_data_gen = train_generator.flow_from_dataframe(\n",
        "    train_data, \n",
        "    x_col=\"path\", \n",
        "    y_col=\"count\",\n",
        "    target_size=(IMAGE_SIZE,IMAGE_SIZE),\n",
        "    color_mode=\"grayscale\",\n",
        "    class_mode=\"other\",\n",
        "    batch_size=BATCH_SIZE\n",
        ")\n",
        "\n",
        "validation_data_gen = test_generator.flow_from_dataframe(\n",
        "    validation_data, \n",
        "    x_col=\"path\", \n",
        "    y_col=\"count\",\n",
        "    target_size=(IMAGE_SIZE,IMAGE_SIZE),\n",
        "    color_mode=\"grayscale\",\n",
        "    class_mode=\"other\",\n",
        "    batch_size=BATCH_SIZE\n",
        ")\n",
        "\n",
        "test_data_gen = test_generator.flow_from_dataframe(\n",
        "    test_data, \n",
        "    x_col=\"path\", \n",
        "    y_col=\"count\",\n",
        "    target_size=(IMAGE_SIZE,IMAGE_SIZE),\n",
        "    color_mode=\"grayscale\",\n",
        "    class_mode=\"other\",\n",
        "    batch_size=BATCH_SIZE\n",
        ")"
      ],
      "execution_count": 12,
      "outputs": [
        {
          "output_type": "stream",
          "text": [
            "Found 1600 validated image filenames.\n",
            "Found 200 validated image filenames.\n",
            "Found 200 validated image filenames.\n"
          ],
          "name": "stdout"
        }
      ]
    },
    {
      "cell_type": "code",
      "metadata": {
        "id": "6OjCGV8cR86e",
        "colab_type": "code",
        "colab": {}
      },
      "source": [
        "from tensorflow.keras import Sequential\n",
        "from tensorflow.keras.layers import Conv2D, Dense, Flatten, MaxPooling2D, Dropout\n",
        "\n",
        "model = Sequential()\n",
        "\n",
        "model.add(Conv2D(filters=32, kernel_size=(3,3), padding=\"same\", activation=\"relu\", input_shape=(IMAGE_SIZE,IMAGE_SIZE,IMAGE_CHANNEL)))\n",
        "model.add(MaxPooling2D(pool_size=(2,2)))\n",
        "\n",
        "model.add(Conv2D(filters=64, kernel_size=(3,3), padding=\"same\", activation=\"relu\"))\n",
        "model.add(MaxPooling2D(pool_size=(2,2)))\n",
        "\n",
        "model.add(Conv2D(filters=128, kernel_size=(3,3), padding=\"same\", activation=\"relu\"))\n",
        "model.add(MaxPooling2D(pool_size=(2,2)))\n",
        "\n",
        "model.add(Conv2D(filters=256, kernel_size=(3,3), padding=\"same\", activation=\"relu\"))\n",
        "model.add(MaxPooling2D(pool_size=(2,2)))\n",
        "\n",
        "model.add(Conv2D(filters=512, kernel_size=(3,3), padding=\"same\", activation=\"relu\"))\n",
        "model.add(MaxPooling2D(pool_size=(2,2)))\n",
        "\n",
        "model.add(Conv2D(filters=1024, kernel_size=(3,3), padding=\"same\", activation=\"relu\"))\n",
        "model.add(MaxPooling2D(pool_size=(2,2)))\n",
        "\n",
        "model.add(Conv2D(filters=1024, kernel_size=(3,3), padding=\"same\", activation=\"relu\"))\n",
        "model.add(MaxPooling2D(pool_size=(2,2)))\n",
        "\n",
        "model.add(Conv2D(filters=1024, kernel_size=(3,3), padding=\"same\", activation=\"relu\"))\n",
        "model.add(MaxPooling2D(pool_size=(2,2)))\n",
        "\n",
        "model.add(Flatten()) \n",
        "\n",
        "model.add(Dense(128, activation='relu'))\n",
        "\n",
        "model.add(Dense(1))\n",
        "\n",
        "model.compile(loss='mean_squared_error', optimizer=\"adam\")"
      ],
      "execution_count": 0,
      "outputs": []
    },
    {
      "cell_type": "code",
      "metadata": {
        "id": "3hL5MtrgUqMP",
        "colab_type": "code",
        "outputId": "ef5523fb-3f66-40cf-aad2-86224d7dfb71",
        "colab": {
          "base_uri": "https://localhost:8080/",
          "height": 852
        }
      },
      "source": [
        "print(model.summary())"
      ],
      "execution_count": 45,
      "outputs": [
        {
          "output_type": "stream",
          "text": [
            "Model: \"sequential_6\"\n",
            "_________________________________________________________________\n",
            "Layer (type)                 Output Shape              Param #   \n",
            "=================================================================\n",
            "conv2d_36 (Conv2D)           (None, 555, 555, 32)      320       \n",
            "_________________________________________________________________\n",
            "max_pooling2d_35 (MaxPooling (None, 277, 277, 32)      0         \n",
            "_________________________________________________________________\n",
            "conv2d_37 (Conv2D)           (None, 277, 277, 64)      18496     \n",
            "_________________________________________________________________\n",
            "max_pooling2d_36 (MaxPooling (None, 138, 138, 64)      0         \n",
            "_________________________________________________________________\n",
            "conv2d_38 (Conv2D)           (None, 138, 138, 128)     73856     \n",
            "_________________________________________________________________\n",
            "max_pooling2d_37 (MaxPooling (None, 69, 69, 128)       0         \n",
            "_________________________________________________________________\n",
            "conv2d_39 (Conv2D)           (None, 69, 69, 256)       295168    \n",
            "_________________________________________________________________\n",
            "max_pooling2d_38 (MaxPooling (None, 34, 34, 256)       0         \n",
            "_________________________________________________________________\n",
            "conv2d_40 (Conv2D)           (None, 34, 34, 512)       1180160   \n",
            "_________________________________________________________________\n",
            "max_pooling2d_39 (MaxPooling (None, 17, 17, 512)       0         \n",
            "_________________________________________________________________\n",
            "conv2d_41 (Conv2D)           (None, 17, 17, 1024)      4719616   \n",
            "_________________________________________________________________\n",
            "max_pooling2d_40 (MaxPooling (None, 8, 8, 1024)        0         \n",
            "_________________________________________________________________\n",
            "conv2d_42 (Conv2D)           (None, 8, 8, 1024)        9438208   \n",
            "_________________________________________________________________\n",
            "max_pooling2d_41 (MaxPooling (None, 4, 4, 1024)        0         \n",
            "_________________________________________________________________\n",
            "conv2d_43 (Conv2D)           (None, 4, 4, 1024)        9438208   \n",
            "_________________________________________________________________\n",
            "max_pooling2d_42 (MaxPooling (None, 2, 2, 1024)        0         \n",
            "_________________________________________________________________\n",
            "flatten_5 (Flatten)          (None, 4096)              0         \n",
            "_________________________________________________________________\n",
            "dense_9 (Dense)              (None, 128)               524416    \n",
            "_________________________________________________________________\n",
            "dense_10 (Dense)             (None, 1)                 129       \n",
            "=================================================================\n",
            "Total params: 25,688,577\n",
            "Trainable params: 25,688,577\n",
            "Non-trainable params: 0\n",
            "_________________________________________________________________\n",
            "None\n"
          ],
          "name": "stdout"
        }
      ]
    },
    {
      "cell_type": "code",
      "metadata": {
        "id": "UK_RpPWlc7-a",
        "colab_type": "code",
        "colab": {}
      },
      "source": [
        "from tensorflow.keras.callbacks import EarlyStopping\n",
        "\n",
        "earlyStopping = EarlyStopping(\n",
        "\tmonitor=\"val_loss\",\n",
        "\trestore_best_weights=True,\n",
        "\tmode=\"min\",\n",
        "\tpatience=5)"
      ],
      "execution_count": 0,
      "outputs": []
    },
    {
      "cell_type": "code",
      "metadata": {
        "id": "46teld3dsDb3",
        "colab_type": "code",
        "colab": {
          "base_uri": "https://localhost:8080/",
          "height": 621
        },
        "outputId": "16ab2325-669e-43aa-bbfc-868d16f16e54"
      },
      "source": [
        "history = model.fit(\n",
        "    train_data_gen, \n",
        "    epochs=EPOCHS, \n",
        "    steps_per_epoch=1600 // BATCH_SIZE, \n",
        "    validation_data=validation_data_gen, \n",
        "    validation_steps= 200 // BATCH_SIZE,\n",
        "    callbacks=[earlyStopping]\n",
        ")"
      ],
      "execution_count": 47,
      "outputs": [
        {
          "output_type": "stream",
          "text": [
            "Epoch 1/100\n",
            "50/50 [==============================] - 39s 783ms/step - loss: 5650.8057 - val_loss: 63.6612\n",
            "Epoch 2/100\n",
            "50/50 [==============================] - 38s 758ms/step - loss: 54.5003 - val_loss: 44.4359\n",
            "Epoch 3/100\n",
            "50/50 [==============================] - 38s 769ms/step - loss: 51.4031 - val_loss: 41.7362\n",
            "Epoch 4/100\n",
            "50/50 [==============================] - 38s 766ms/step - loss: 49.2075 - val_loss: 42.6035\n",
            "Epoch 5/100\n",
            "50/50 [==============================] - 38s 756ms/step - loss: 51.1086 - val_loss: 43.5021\n",
            "Epoch 6/100\n",
            "50/50 [==============================] - 38s 763ms/step - loss: 51.8460 - val_loss: 42.6228\n",
            "Epoch 7/100\n",
            "50/50 [==============================] - 38s 762ms/step - loss: 52.7324 - val_loss: 42.7827\n",
            "Epoch 8/100\n",
            "50/50 [==============================] - 38s 767ms/step - loss: 52.3863 - val_loss: 41.5125\n",
            "Epoch 9/100\n",
            "50/50 [==============================] - 38s 765ms/step - loss: 53.3725 - val_loss: 43.6576\n",
            "Epoch 10/100\n",
            "50/50 [==============================] - 39s 771ms/step - loss: 52.3889 - val_loss: 40.0434\n",
            "Epoch 11/100\n",
            "50/50 [==============================] - 39s 772ms/step - loss: 50.9132 - val_loss: 43.2472\n",
            "Epoch 12/100\n",
            "50/50 [==============================] - 38s 765ms/step - loss: 49.3685 - val_loss: 39.8486\n",
            "Epoch 13/100\n",
            "50/50 [==============================] - 38s 761ms/step - loss: 48.7392 - val_loss: 42.8449\n",
            "Epoch 14/100\n",
            "50/50 [==============================] - 38s 759ms/step - loss: 53.2723 - val_loss: 44.1012\n",
            "Epoch 15/100\n",
            "50/50 [==============================] - 40s 792ms/step - loss: 51.5316 - val_loss: 41.9066\n",
            "Epoch 16/100\n",
            "50/50 [==============================] - 38s 766ms/step - loss: 51.6508 - val_loss: 40.8159\n",
            "Epoch 17/100\n",
            "50/50 [==============================] - 38s 760ms/step - loss: 49.7659 - val_loss: 42.3129\n"
          ],
          "name": "stdout"
        }
      ]
    },
    {
      "cell_type": "code",
      "metadata": {
        "id": "Sb571TrCVDk1",
        "colab_type": "code",
        "outputId": "6013f040-29ed-46af-ffec-81d4a2ee1891",
        "colab": {
          "base_uri": "https://localhost:8080/",
          "height": 294
        }
      },
      "source": [
        "import matplotlib.pyplot as plt\n",
        "\n",
        "plt.plot(history.history['loss'])\n",
        "plt.plot(history.history['val_loss'])\n",
        "\n",
        "plt.title('Model Loss')\n",
        "plt.ylabel('Loss')\n",
        "plt.xlabel('Epoch')\n",
        "\n",
        "plt.show()"
      ],
      "execution_count": 18,
      "outputs": [
        {
          "output_type": "display_data",
          "data": {
            "image/png": "[encoded data removed]",
            "text/plain": [
              "<Figure size 432x288 with 1 Axes>"
            ]
          },
          "metadata": {
            "tags": [],
            "needs_background": "light"
          }
        }
      ]
    },
    {
      "cell_type": "code",
      "metadata": {
        "id": "vygRtCW1pWUC",
        "colab_type": "code",
        "colab": {}
      },
      "source": [
        "model.save(\"/content/drive/My Drive/Projects/Crowd Count/Weights/model.h5\")  "
      ],
      "execution_count": 0,
      "outputs": []
    },
    {
      "cell_type": "code",
      "metadata": {
        "id": "y6owXFJmzPbR",
        "colab_type": "code",
        "colab": {}
      },
      "source": [
        ""
      ],
      "execution_count": 0,
      "outputs": []
    }
  ]
}