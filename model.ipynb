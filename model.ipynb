{
  "nbformat": 4,
  "nbformat_minor": 0,
  "metadata": {
    "kernelspec": {
      "display_name": "Python 3",
      "language": "python",
      "name": "python3"
    },
    "language_info": {
      "codemirror_mode": {
        "name": "ipython",
        "version": 3
      },
      "file_extension": ".py",
      "mimetype": "text/x-python",
      "name": "python",
      "nbconvert_exporter": "python",
      "pygments_lexer": "ipython3",
      "version": "3.6.9"
    },
    "colab": {
      "name": "model.ipynb",
      "provenance": []
    }
  },
  "cells": [
    {
      "cell_type": "code",
      "metadata": {
        "id": "mW8CsN5QI4eL",
        "colab_type": "code",
        "colab": {
          "base_uri": "https://localhost:8080/",
          "height": 125
        },
        "outputId": "03b8978c-acc5-4647-a51e-6ca78c631076"
      },
      "source": [
        "from google.colab import drive\n",
        "drive.mount('/content/drive')"
      ],
      "execution_count": 1,
      "outputs": [
        {
          "output_type": "stream",
          "text": [
            "Go to this URL in a browser: https://accounts.google.com/o/oauth2/auth?client_id=947318989803-6bn6qk8qdgf4n4g3pfee6491hc0brc4i.apps.googleusercontent.com&redirect_uri=urn%3aietf%3awg%3aoauth%3a2.0%3aoob&response_type=code&scope=email%20https%3a%2f%2fwww.googleapis.com%2fauth%2fdocs.test%20https%3a%2f%2fwww.googleapis.com%2fauth%2fdrive%20https%3a%2f%2fwww.googleapis.com%2fauth%2fdrive.photos.readonly%20https%3a%2f%2fwww.googleapis.com%2fauth%2fpeopleapi.readonly\n",
            "\n",
            "Enter your authorization code:\n",
            "··········\n",
            "Mounted at /content/drive\n"
          ],
          "name": "stdout"
        }
      ]
    },
    {
      "cell_type": "code",
      "metadata": {
        "id": "vIOPE4irI0-p",
        "colab_type": "code",
        "colab": {
          "base_uri": "https://localhost:8080/",
          "height": 34
        },
        "outputId": "ef71b2cd-2f4c-47f3-f285-8b07389936d6"
      },
      "source": [
        "!mkdir data\n",
        "!unzip -qq /content/drive/My\\ Drive/Projects/Crowd\\ Count/Dataset/dataset.zip -d ./data"
      ],
      "execution_count": 3,
      "outputs": [
        {
          "output_type": "stream",
          "text": [
            "mkdir: cannot create directory ‘data’: File exists\n"
          ],
          "name": "stdout"
        }
      ]
    },
    {
      "cell_type": "code",
      "metadata": {
        "id": "YGr22zZ6J2sp",
        "colab_type": "code",
        "colab": {}
      },
      "source": [
        "!mkdir data/processed"
      ],
      "execution_count": 0,
      "outputs": []
    },
    {
      "cell_type": "code",
      "metadata": {
        "id": "6s-vbVOlKR-R",
        "colab_type": "code",
        "colab": {}
      },
      "source": [
        "from os.path import join\n",
        "import cv2\n",
        "\n",
        "def process_images(read_folder, save_folder, file):\n",
        "    read_path = join(read_folder, file)\n",
        "    save_path = join(save_folder, file)\n",
        "\n",
        "    img = cv2.imread(read_path, 0)\n",
        "    img = cv2.resize(img, (555,555))\n",
        "\n",
        "    cv2.imwrite(save_path, img)\n",
        "\n",
        "    return save_path"
      ],
      "execution_count": 0,
      "outputs": []
    },
    {
      "cell_type": "code",
      "metadata": {
        "id": "mkyJCQ0CK-JW",
        "colab_type": "code",
        "colab": {
          "base_uri": "https://localhost:8080/",
          "height": 34
        },
        "outputId": "3ee6dec5-f3e1-4bcf-d69b-b7e5278df894"
      },
      "source": [
        "import pandas as pd\n",
        "\n",
        "data = pd.read_csv(\"data/labels.csv\")\n",
        "labels = data[\"count\"].values\n",
        "print(labels[0:10])"
      ],
      "execution_count": 6,
      "outputs": [
        {
          "output_type": "stream",
          "text": [
            "[35 41 41 44 41 41 35 36 27 24]\n"
          ],
          "name": "stdout"
        }
      ]
    },
    {
      "cell_type": "code",
      "metadata": {
        "id": "LJtyH-QsLLev",
        "colab_type": "code",
        "colab": {
          "base_uri": "https://localhost:8080/",
          "height": 34
        },
        "outputId": "029ddedf-3811-4073-97ac-f3b04e158b97"
      },
      "source": [
        "from os import listdir\n",
        "from tqdm import tqdm\n",
        "\n",
        "read_folder = \"data/frames/\"\n",
        "save_folder = \"data/processed/\"\n",
        "\n",
        "images = listdir(\"data/frames/\")\n",
        "\n",
        "dataset = []\n",
        "\n",
        "for index, image in tqdm(enumerate(images)):\n",
        "    save_path = process_images(read_folder, save_folder, image)\n",
        "    dataset.append([save_path, labels[index]])"
      ],
      "execution_count": 9,
      "outputs": [
        {
          "output_type": "stream",
          "text": [
            "2000it [00:11, 168.63it/s]\n"
          ],
          "name": "stderr"
        }
      ]
    },
    {
      "cell_type": "code",
      "metadata": {
        "id": "ZDQuYHsHMERi",
        "colab_type": "code",
        "colab": {
          "base_uri": "https://localhost:8080/",
          "height": 54
        },
        "outputId": "64dd3760-d9a5-468c-ba9f-50670e78a733"
      },
      "source": [
        "print(dataset[0:10])"
      ],
      "execution_count": 10,
      "outputs": [
        {
          "output_type": "stream",
          "text": [
            "[['data/processed/seq_001236.jpg', 35], ['data/processed/seq_000073.jpg', 41], ['data/processed/seq_000554.jpg', 41], ['data/processed/seq_001469.jpg', 44], ['data/processed/seq_001444.jpg', 41], ['data/processed/seq_000375.jpg', 41], ['data/processed/seq_001291.jpg', 35], ['data/processed/seq_000272.jpg', 36], ['data/processed/seq_000708.jpg', 27], ['data/processed/seq_000313.jpg', 24]]\n"
          ],
          "name": "stdout"
        }
      ]
    },
    {
      "cell_type": "code",
      "metadata": {
        "id": "O4dTSiL-Mj2J",
        "colab_type": "code",
        "colab": {
          "base_uri": "https://localhost:8080/",
          "height": 123
        },
        "outputId": "a15dde0f-e4f4-484a-ad62-17ba58979d82"
      },
      "source": [
        "import pandas as pd\n",
        "\n",
        "df = pd.DataFrame(dataset, columns=[\"path\", \"count\"])\n",
        "\n",
        "print(df.head())"
      ],
      "execution_count": 11,
      "outputs": [
        {
          "output_type": "stream",
          "text": [
            "                            path  count\n",
            "0  data/processed/seq_001236.jpg     35\n",
            "1  data/processed/seq_000073.jpg     41\n",
            "2  data/processed/seq_000554.jpg     41\n",
            "3  data/processed/seq_001469.jpg     44\n",
            "4  data/processed/seq_001444.jpg     41\n"
          ],
          "name": "stdout"
        }
      ]
    },
    {
      "cell_type": "code",
      "metadata": {
        "id": "6sQ3HBrIMt-P",
        "colab_type": "code",
        "colab": {}
      },
      "source": [
        "df.to_csv(\"data/processed.csv\", index=False)"
      ],
      "execution_count": 0,
      "outputs": []
    },
    {
      "cell_type": "code",
      "metadata": {
        "id": "qxa6vBi5MyqY",
        "colab_type": "code",
        "colab": {}
      },
      "source": [
        ""
      ],
      "execution_count": 0,
      "outputs": []
    }
  ]
}