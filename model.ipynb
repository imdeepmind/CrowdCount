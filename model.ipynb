{
  "nbformat": 4,
  "nbformat_minor": 0,
  "metadata": {
    "kernelspec": {
      "display_name": "Python 3",
      "language": "python",
      "name": "python3"
    },
    "language_info": {
      "codemirror_mode": {
        "name": "ipython",
        "version": 3
      },
      "file_extension": ".py",
      "mimetype": "text/x-python",
      "name": "python",
      "nbconvert_exporter": "python",
      "pygments_lexer": "ipython3",
      "version": "3.6.9"
    },
    "colab": {
      "name": "model.ipynb",
      "provenance": [],
      "include_colab_link": true
    },
    "accelerator": "GPU"
  },
  "cells": [
    {
      "cell_type": "markdown",
      "metadata": {
        "id": "view-in-github",
        "colab_type": "text"
      },
      "source": [
        "<a href=\"https://colab.research.google.com/github/imdeepmind/CrowdCount/blob/master/model.ipynb\" target=\"_parent\"><img src=\"https://colab.research.google.com/assets/colab-badge.svg\" alt=\"Open In Colab\"/></a>"
      ]
    },
    {
      "cell_type": "code",
      "metadata": {
        "id": "mW8CsN5QI4eL",
        "colab_type": "code",
        "colab": {
          "base_uri": "https://localhost:8080/",
          "height": 125
        },
        "outputId": "4681bd86-808a-40b5-8567-cf17deadce04"
      },
      "source": [
        "from google.colab import drive\n",
        "drive.mount('/content/drive')"
      ],
      "execution_count": 1,
      "outputs": [
        {
          "output_type": "stream",
          "text": [
            "Go to this URL in a browser: https://accounts.google.com/o/oauth2/auth?client_id=947318989803-6bn6qk8qdgf4n4g3pfee6491hc0brc4i.apps.googleusercontent.com&redirect_uri=urn%3aietf%3awg%3aoauth%3a2.0%3aoob&response_type=code&scope=email%20https%3a%2f%2fwww.googleapis.com%2fauth%2fdocs.test%20https%3a%2f%2fwww.googleapis.com%2fauth%2fdrive%20https%3a%2f%2fwww.googleapis.com%2fauth%2fdrive.photos.readonly%20https%3a%2f%2fwww.googleapis.com%2fauth%2fpeopleapi.readonly\n",
            "\n",
            "Enter your authorization code:\n",
            "··········\n",
            "Mounted at /content/drive\n"
          ],
          "name": "stdout"
        }
      ]
    },
    {
      "cell_type": "code",
      "metadata": {
        "id": "vIOPE4irI0-p",
        "colab_type": "code",
        "colab": {}
      },
      "source": [
        "!mkdir data\n",
        "!unzip -qq /content/drive/My\\ Drive/Projects/Crowd\\ Count/Dataset/dataset.zip -d ./data"
      ],
      "execution_count": 0,
      "outputs": []
    },
    {
      "cell_type": "code",
      "metadata": {
        "id": "YGr22zZ6J2sp",
        "colab_type": "code",
        "colab": {}
      },
      "source": [
        "!mkdir data/processed"
      ],
      "execution_count": 0,
      "outputs": []
    },
    {
      "cell_type": "code",
      "metadata": {
        "id": "0XwRhiq_YkbP",
        "colab_type": "code",
        "colab": {}
      },
      "source": [
        "LABELS_FILE=\"data/labels.csv\"\n",
        "READ_FOLDER=\"data/frames/\"\n",
        "SAVE_FOLDER=\"data/processed/\"\n",
        "IMAGE_SIZE=555\n",
        "IMAGE_CHANNEL=1\n",
        "BATCH_SIZE=32\n",
        "EPOCHS=100"
      ],
      "execution_count": 0,
      "outputs": []
    },
    {
      "cell_type": "code",
      "metadata": {
        "id": "6s-vbVOlKR-R",
        "colab_type": "code",
        "colab": {}
      },
      "source": [
        "from os.path import join\n",
        "import cv2\n",
        "\n",
        "def process_images(read_folder, save_folder, file):\n",
        "    read_path = join(read_folder, file)\n",
        "    save_path = join(save_folder, file)\n",
        "\n",
        "    img = cv2.imread(read_path, 0)\n",
        "    img = cv2.resize(img, (IMAGE_SIZE,IMAGE_SIZE))\n",
        "\n",
        "    cv2.imwrite(save_path, img)\n",
        "\n",
        "    return save_path"
      ],
      "execution_count": 0,
      "outputs": []
    },
    {
      "cell_type": "code",
      "metadata": {
        "id": "mkyJCQ0CK-JW",
        "colab_type": "code",
        "colab": {
          "base_uri": "https://localhost:8080/",
          "height": 34
        },
        "outputId": "983e7bfc-65a1-4122-ff81-ca9cac734764"
      },
      "source": [
        "import pandas as pd\n",
        "\n",
        "data = pd.read_csv(LABELS_FILE)\n",
        "labels = data[\"count\"].values\n",
        "print(labels[0:10])"
      ],
      "execution_count": 6,
      "outputs": [
        {
          "output_type": "stream",
          "text": [
            "[35 41 41 44 41 41 35 36 27 24]\n"
          ],
          "name": "stdout"
        }
      ]
    },
    {
      "cell_type": "code",
      "metadata": {
        "id": "LJtyH-QsLLev",
        "colab_type": "code",
        "colab": {
          "base_uri": "https://localhost:8080/",
          "height": 34
        },
        "outputId": "7dc3371c-2c49-46c8-ae8a-e9e2453955ce"
      },
      "source": [
        "from os import listdir\n",
        "from tqdm import tqdm\n",
        "\n",
        "images = listdir(READ_FOLDER)\n",
        "\n",
        "dataset = []\n",
        "\n",
        "for index, image in tqdm(enumerate(images)):\n",
        "    save_path = process_images(READ_FOLDER, SAVE_FOLDER, image)\n",
        "    dataset.append([save_path, labels[index]])"
      ],
      "execution_count": 7,
      "outputs": [
        {
          "output_type": "stream",
          "text": [
            "2000it [00:13, 150.26it/s]\n"
          ],
          "name": "stderr"
        }
      ]
    },
    {
      "cell_type": "code",
      "metadata": {
        "id": "ZDQuYHsHMERi",
        "colab_type": "code",
        "colab": {
          "base_uri": "https://localhost:8080/",
          "height": 54
        },
        "outputId": "d93a1ef4-66f1-426d-e319-94633dba73ce"
      },
      "source": [
        "print(dataset[0:10])"
      ],
      "execution_count": 8,
      "outputs": [
        {
          "output_type": "stream",
          "text": [
            "[['data/processed/seq_001977.jpg', 35], ['data/processed/seq_001383.jpg', 41], ['data/processed/seq_000435.jpg', 41], ['data/processed/seq_001026.jpg', 44], ['data/processed/seq_000026.jpg', 41], ['data/processed/seq_001034.jpg', 41], ['data/processed/seq_001127.jpg', 35], ['data/processed/seq_001909.jpg', 36], ['data/processed/seq_001223.jpg', 27], ['data/processed/seq_000276.jpg', 24]]\n"
          ],
          "name": "stdout"
        }
      ]
    },
    {
      "cell_type": "code",
      "metadata": {
        "id": "O4dTSiL-Mj2J",
        "colab_type": "code",
        "colab": {
          "base_uri": "https://localhost:8080/",
          "height": 123
        },
        "outputId": "7170904a-9813-4b11-a1d4-a48eb2e78764"
      },
      "source": [
        "import pandas as pd\n",
        "\n",
        "df = pd.DataFrame(dataset, columns=[\"path\", \"count\"])\n",
        "\n",
        "print(df.head())"
      ],
      "execution_count": 9,
      "outputs": [
        {
          "output_type": "stream",
          "text": [
            "                            path  count\n",
            "0  data/processed/seq_001977.jpg     35\n",
            "1  data/processed/seq_001383.jpg     41\n",
            "2  data/processed/seq_000435.jpg     41\n",
            "3  data/processed/seq_001026.jpg     44\n",
            "4  data/processed/seq_000026.jpg     41\n"
          ],
          "name": "stdout"
        }
      ]
    },
    {
      "cell_type": "code",
      "metadata": {
        "id": "6sQ3HBrIMt-P",
        "colab_type": "code",
        "colab": {}
      },
      "source": [
        "df.to_csv(\"data/processed.csv\", index=False)"
      ],
      "execution_count": 0,
      "outputs": []
    },
    {
      "cell_type": "code",
      "metadata": {
        "id": "TDxlu0sQP3Re",
        "colab_type": "code",
        "colab": {
          "base_uri": "https://localhost:8080/",
          "height": 34
        },
        "outputId": "e05ba542-a750-4f70-8213-5040ab0cbd76"
      },
      "source": [
        "import numpy as np\n",
        "\n",
        "train_data, validation_data, test_data = np.split(df.sample(frac=1), [int(.8*len(df)), int(.9*len(df))])\n",
        "\n",
        "print(train_data.shape, validation_data.shape, test_data.shape)"
      ],
      "execution_count": 11,
      "outputs": [
        {
          "output_type": "stream",
          "text": [
            "(1600, 2) (200, 2) (200, 2)\n"
          ],
          "name": "stdout"
        }
      ]
    },
    {
      "cell_type": "code",
      "metadata": {
        "id": "qxa6vBi5MyqY",
        "colab_type": "code",
        "colab": {}
      },
      "source": [
        "from tensorflow.keras.preprocessing.image import ImageDataGenerator\n",
        "\n",
        "train_generator = ImageDataGenerator(\n",
        "    rotation_range=360,\n",
        "    rescale=1./255,\n",
        "    horizontal_flip=True,\n",
        "\tvertical_flip=True\n",
        ")\n",
        "\n",
        "test_generator = ImageDataGenerator(rescale=1./255)"
      ],
      "execution_count": 0,
      "outputs": []
    },
    {
      "cell_type": "code",
      "metadata": {
        "id": "YXY3zAUOPzUm",
        "colab_type": "code",
        "colab": {
          "base_uri": "https://localhost:8080/",
          "height": 70
        },
        "outputId": "0d09bd70-5d43-4ea9-dd2e-9605053e1367"
      },
      "source": [
        "train_data_gen = train_generator.flow_from_dataframe(\n",
        "    train_data, \n",
        "    x_col=\"path\", \n",
        "    y_col=\"count\",\n",
        "    target_size=(IMAGE_SIZE,IMAGE_SIZE),\n",
        "    color_mode=\"grayscale\",\n",
        "    class_mode=\"other\",\n",
        "    batch_size=BATCH_SIZE\n",
        ")\n",
        "\n",
        "validation_data_gen = test_generator.flow_from_dataframe(\n",
        "    validation_data, \n",
        "    x_col=\"path\", \n",
        "    y_col=\"count\",\n",
        "    target_size=(IMAGE_SIZE,IMAGE_SIZE),\n",
        "    color_mode=\"grayscale\",\n",
        "    class_mode=\"other\",\n",
        "    batch_size=BATCH_SIZE\n",
        ")\n",
        "\n",
        "test_data_gen = test_generator.flow_from_dataframe(\n",
        "    test_data, \n",
        "    x_col=\"path\", \n",
        "    y_col=\"count\",\n",
        "    target_size=(IMAGE_SIZE,IMAGE_SIZE),\n",
        "    color_mode=\"grayscale\",\n",
        "    class_mode=\"other\",\n",
        "    batch_size=BATCH_SIZE\n",
        ")"
      ],
      "execution_count": 13,
      "outputs": [
        {
          "output_type": "stream",
          "text": [
            "Found 1600 validated image filenames.\n",
            "Found 200 validated image filenames.\n",
            "Found 200 validated image filenames.\n"
          ],
          "name": "stdout"
        }
      ]
    },
    {
      "cell_type": "code",
      "metadata": {
        "id": "6OjCGV8cR86e",
        "colab_type": "code",
        "colab": {}
      },
      "source": [
        "from tensorflow.keras import Sequential\n",
        "from tensorflow.keras.layers import Conv2D, Dense, Flatten, MaxPooling2D\n",
        "\n",
        "model = Sequential()\n",
        "\n",
        "model.add(Conv2D(filters=32, kernel_size=(5,5), padding=\"same\", activation=\"relu\", input_shape=(IMAGE_SIZE,IMAGE_SIZE,IMAGE_CHANNEL)))\n",
        "model.add(Conv2D(filters=32, kernel_size=(5,5), padding=\"same\", activation=\"relu\"))\n",
        "model.add(MaxPooling2D(pool_size=(2,2)))\n",
        "\n",
        "model.add(Conv2D(filters=64, kernel_size=(5,5), padding=\"same\", activation=\"relu\"))\n",
        "model.add(Conv2D(filters=64, kernel_size=(5,5), padding=\"same\", activation=\"relu\"))\n",
        "model.add(MaxPooling2D(pool_size=(2,2)))\n",
        "\n",
        "model.add(Conv2D(filters=128, kernel_size=(5,5), padding=\"same\", activation=\"relu\"))\n",
        "model.add(Conv2D(filters=128, kernel_size=(5,5), padding=\"same\", activation=\"relu\"))\n",
        "model.add(MaxPooling2D(pool_size=(2,2)))\n",
        "\n",
        "model.add(Conv2D(filters=256, kernel_size=(5,5), padding=\"same\", activation=\"relu\"))\n",
        "model.add(Conv2D(filters=256, kernel_size=(5,5), padding=\"same\", activation=\"relu\"))\n",
        "model.add(MaxPooling2D(pool_size=(2,2)))\n",
        "\n",
        "\n",
        "model.add(Flatten()) \n",
        "\n",
        "model.add(Dense(1))\n",
        "\n",
        "model.compile(loss='mean_squared_error', optimizer=\"adam\")"
      ],
      "execution_count": 0,
      "outputs": []
    },
    {
      "cell_type": "code",
      "metadata": {
        "id": "3hL5MtrgUqMP",
        "colab_type": "code",
        "colab": {
          "base_uri": "https://localhost:8080/",
          "height": 674
        },
        "outputId": "7c967fc1-3c38-446f-e1bb-0d1d1eb20089"
      },
      "source": [
        "print(model.summary())"
      ],
      "execution_count": 15,
      "outputs": [
        {
          "output_type": "stream",
          "text": [
            "Model: \"sequential\"\n",
            "_________________________________________________________________\n",
            "Layer (type)                 Output Shape              Param #   \n",
            "=================================================================\n",
            "conv2d (Conv2D)              (None, 555, 555, 32)      832       \n",
            "_________________________________________________________________\n",
            "conv2d_1 (Conv2D)            (None, 555, 555, 32)      25632     \n",
            "_________________________________________________________________\n",
            "max_pooling2d (MaxPooling2D) (None, 277, 277, 32)      0         \n",
            "_________________________________________________________________\n",
            "conv2d_2 (Conv2D)            (None, 277, 277, 64)      51264     \n",
            "_________________________________________________________________\n",
            "conv2d_3 (Conv2D)            (None, 277, 277, 64)      102464    \n",
            "_________________________________________________________________\n",
            "max_pooling2d_1 (MaxPooling2 (None, 138, 138, 64)      0         \n",
            "_________________________________________________________________\n",
            "conv2d_4 (Conv2D)            (None, 138, 138, 128)     204928    \n",
            "_________________________________________________________________\n",
            "conv2d_5 (Conv2D)            (None, 138, 138, 128)     409728    \n",
            "_________________________________________________________________\n",
            "max_pooling2d_2 (MaxPooling2 (None, 69, 69, 128)       0         \n",
            "_________________________________________________________________\n",
            "conv2d_6 (Conv2D)            (None, 69, 69, 256)       819456    \n",
            "_________________________________________________________________\n",
            "conv2d_7 (Conv2D)            (None, 69, 69, 256)       1638656   \n",
            "_________________________________________________________________\n",
            "max_pooling2d_3 (MaxPooling2 (None, 34, 34, 256)       0         \n",
            "_________________________________________________________________\n",
            "flatten (Flatten)            (None, 295936)            0         \n",
            "_________________________________________________________________\n",
            "dense (Dense)                (None, 1)                 295937    \n",
            "=================================================================\n",
            "Total params: 3,548,897\n",
            "Trainable params: 3,548,897\n",
            "Non-trainable params: 0\n",
            "_________________________________________________________________\n",
            "None\n"
          ],
          "name": "stdout"
        }
      ]
    },
    {
      "cell_type": "code",
      "metadata": {
        "id": "UK_RpPWlc7-a",
        "colab_type": "code",
        "colab": {}
      },
      "source": [
        "from tensorflow.keras.callbacks import EarlyStopping\n",
        "\n",
        "earlyStopping = EarlyStopping(\n",
        "\tmonitor=\"val_loss\",\n",
        "\trestore_best_weights=True,\n",
        "\tmode=\"min\",\n",
        "\tpatience=3)"
      ],
      "execution_count": 0,
      "outputs": []
    },
    {
      "cell_type": "code",
      "metadata": {
        "id": "NNJBDiiOU3Qp",
        "colab_type": "code",
        "colab": {
          "base_uri": "https://localhost:8080/",
          "height": 372
        },
        "outputId": "e1b784c8-2150-4495-9f43-c2df5698c1ef"
      },
      "source": [
        "history = model.fit(\n",
        "    train_data_gen, \n",
        "    epochs=EPOCHS, \n",
        "    steps_per_epoch=1600 // BATCH_SIZE, \n",
        "    validation_data=validation_data_gen, \n",
        "    validation_steps= 200 // BATCH_SIZE,\n",
        "    callbacks=[earlyStopping]\n",
        ")"
      ],
      "execution_count": 17,
      "outputs": [
        {
          "output_type": "stream",
          "text": [
            "Epoch 1/100\n",
            "50/50 [==============================] - 130s 3s/step - loss: 338.0134 - val_loss: 61.1510\n",
            "Epoch 2/100\n",
            "50/50 [==============================] - 129s 3s/step - loss: 57.8107 - val_loss: 50.4522\n",
            "Epoch 3/100\n",
            "50/50 [==============================] - 130s 3s/step - loss: 53.0929 - val_loss: 48.9491\n",
            "Epoch 4/100\n",
            "50/50 [==============================] - 129s 3s/step - loss: 50.1215 - val_loss: 47.8383\n",
            "Epoch 5/100\n",
            "50/50 [==============================] - 130s 3s/step - loss: 55.2216 - val_loss: 56.7731\n",
            "Epoch 6/100\n",
            "50/50 [==============================] - 129s 3s/step - loss: 50.7939 - val_loss: 54.5156\n",
            "Epoch 7/100\n",
            "50/50 [==============================] - 130s 3s/step - loss: 50.3913 - val_loss: 47.0108\n",
            "Epoch 8/100\n",
            "50/50 [==============================] - 129s 3s/step - loss: 51.7310 - val_loss: 60.3112\n",
            "Epoch 9/100\n",
            "50/50 [==============================] - 130s 3s/step - loss: 54.1876 - val_loss: 47.8586\n",
            "Epoch 10/100\n",
            "50/50 [==============================] - 129s 3s/step - loss: 51.2779 - val_loss: 77.3660\n"
          ],
          "name": "stdout"
        }
      ]
    },
    {
      "cell_type": "code",
      "metadata": {
        "id": "Sb571TrCVDk1",
        "colab_type": "code",
        "colab": {
          "base_uri": "https://localhost:8080/",
          "height": 294
        },
        "outputId": "5d48db05-0483-4eca-a7bf-1355c9d9bdd0"
      },
      "source": [
        "import matplotlib.pyplot as plt\n",
        "\n",
        "plt.plot(history.history['loss'])\n",
        "plt.plot(history.history['val_loss'])\n",
        "\n",
        "plt.title('Model Loss')\n",
        "plt.ylabel('Loss')\n",
        "plt.xlabel('Epoch')\n",
        "\n",
        "plt.show()"
      ],
      "execution_count": 18,
      "outputs": [
        {
          "output_type": "display_data",
          "data": {
            "image/png": "[encoded data removed]",
            "text/plain": [
              "<Figure size 432x288 with 1 Axes>"
            ]
          },
          "metadata": {
            "tags": [],
            "needs_background": "light"
          }
        }
      ]
    },
    {
      "cell_type": "code",
      "metadata": {
        "id": "1uyxGk8yXnVN",
        "colab_type": "code",
        "colab": {}
      },
      "source": [
        ""
      ],
      "execution_count": 0,
      "outputs": []
    }
  ]
}