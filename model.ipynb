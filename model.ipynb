{
  "nbformat": 4,
  "nbformat_minor": 0,
  "metadata": {
    "kernelspec": {
      "display_name": "Python 3",
      "language": "python",
      "name": "python3"
    },
    "language_info": {
      "codemirror_mode": {
        "name": "ipython",
        "version": 3
      },
      "file_extension": ".py",
      "mimetype": "text/x-python",
      "name": "python",
      "nbconvert_exporter": "python",
      "pygments_lexer": "ipython3",
      "version": "3.6.9"
    },
    "colab": {
      "name": "model.ipynb",
      "provenance": [],
      "include_colab_link": true
    },
    "accelerator": "GPU"
  },
  "cells": [
    {
      "cell_type": "markdown",
      "metadata": {
        "id": "view-in-github",
        "colab_type": "text"
      },
      "source": [
        "<a href=\"https://colab.research.google.com/github/imdeepmind/CrowdCount/blob/master/model.ipynb\" target=\"_parent\"><img src=\"https://colab.research.google.com/assets/colab-badge.svg\" alt=\"Open In Colab\"/></a>"
      ]
    },
    {
      "cell_type": "code",
      "metadata": {
        "id": "mW8CsN5QI4eL",
        "colab_type": "code",
        "colab": {
          "base_uri": "https://localhost:8080/",
          "height": 125
        },
        "outputId": "561a6544-6be3-40bb-c2a2-ed4a33e0f5af"
      },
      "source": [
        "from google.colab import drive\n",
        "drive.mount('/content/drive')"
      ],
      "execution_count": 1,
      "outputs": [
        {
          "output_type": "stream",
          "text": [
            "Go to this URL in a browser: https://accounts.google.com/o/oauth2/auth?client_id=947318989803-6bn6qk8qdgf4n4g3pfee6491hc0brc4i.apps.googleusercontent.com&redirect_uri=urn%3aietf%3awg%3aoauth%3a2.0%3aoob&response_type=code&scope=email%20https%3a%2f%2fwww.googleapis.com%2fauth%2fdocs.test%20https%3a%2f%2fwww.googleapis.com%2fauth%2fdrive%20https%3a%2f%2fwww.googleapis.com%2fauth%2fdrive.photos.readonly%20https%3a%2f%2fwww.googleapis.com%2fauth%2fpeopleapi.readonly\n",
            "\n",
            "Enter your authorization code:\n",
            "··········\n",
            "Mounted at /content/drive\n"
          ],
          "name": "stdout"
        }
      ]
    },
    {
      "cell_type": "code",
      "metadata": {
        "id": "vIOPE4irI0-p",
        "colab_type": "code",
        "colab": {}
      },
      "source": [
        "!mkdir data\n",
        "!unzip -qq /content/drive/My\\ Drive/Projects/Crowd\\ Count/Dataset/dataset.zip -d ./data"
      ],
      "execution_count": 0,
      "outputs": []
    },
    {
      "cell_type": "code",
      "metadata": {
        "id": "YGr22zZ6J2sp",
        "colab_type": "code",
        "colab": {}
      },
      "source": [
        "!mkdir data/processed"
      ],
      "execution_count": 0,
      "outputs": []
    },
    {
      "cell_type": "code",
      "metadata": {
        "id": "6s-vbVOlKR-R",
        "colab_type": "code",
        "colab": {}
      },
      "source": [
        "from os.path import join\n",
        "import cv2\n",
        "\n",
        "def process_images(read_folder, save_folder, file):\n",
        "    read_path = join(read_folder, file)\n",
        "    save_path = join(save_folder, file)\n",
        "\n",
        "    img = cv2.imread(read_path, 0)\n",
        "    img = cv2.resize(img, (555,555))\n",
        "\n",
        "    cv2.imwrite(save_path, img)\n",
        "\n",
        "    return save_path"
      ],
      "execution_count": 0,
      "outputs": []
    },
    {
      "cell_type": "code",
      "metadata": {
        "id": "mkyJCQ0CK-JW",
        "colab_type": "code",
        "colab": {
          "base_uri": "https://localhost:8080/",
          "height": 34
        },
        "outputId": "8a8d0537-a562-45a4-e8ff-f45a87f208b0"
      },
      "source": [
        "import pandas as pd\n",
        "\n",
        "data = pd.read_csv(\"data/labels.csv\")\n",
        "labels = data[\"count\"].values\n",
        "print(labels[0:10])"
      ],
      "execution_count": 5,
      "outputs": [
        {
          "output_type": "stream",
          "text": [
            "[35 41 41 44 41 41 35 36 27 24]\n"
          ],
          "name": "stdout"
        }
      ]
    },
    {
      "cell_type": "code",
      "metadata": {
        "id": "LJtyH-QsLLev",
        "colab_type": "code",
        "colab": {
          "base_uri": "https://localhost:8080/",
          "height": 34
        },
        "outputId": "f901b107-7ff8-46ca-de01-9dea8a69f131"
      },
      "source": [
        "from os import listdir\n",
        "from tqdm import tqdm\n",
        "\n",
        "read_folder = \"data/frames/\"\n",
        "save_folder = \"data/processed/\"\n",
        "\n",
        "images = listdir(\"data/frames/\")\n",
        "\n",
        "dataset = []\n",
        "\n",
        "for index, image in tqdm(enumerate(images)):\n",
        "    save_path = process_images(read_folder, save_folder, image)\n",
        "    dataset.append([save_path, labels[index]])"
      ],
      "execution_count": 6,
      "outputs": [
        {
          "output_type": "stream",
          "text": [
            "2000it [00:11, 177.21it/s]\n"
          ],
          "name": "stderr"
        }
      ]
    },
    {
      "cell_type": "code",
      "metadata": {
        "id": "ZDQuYHsHMERi",
        "colab_type": "code",
        "colab": {
          "base_uri": "https://localhost:8080/",
          "height": 54
        },
        "outputId": "b7f89389-981f-428e-8467-e56368e41736"
      },
      "source": [
        "print(dataset[0:10])"
      ],
      "execution_count": 7,
      "outputs": [
        {
          "output_type": "stream",
          "text": [
            "[['data/processed/seq_001977.jpg', 35], ['data/processed/seq_001383.jpg', 41], ['data/processed/seq_000435.jpg', 41], ['data/processed/seq_001026.jpg', 44], ['data/processed/seq_000026.jpg', 41], ['data/processed/seq_001034.jpg', 41], ['data/processed/seq_001127.jpg', 35], ['data/processed/seq_001909.jpg', 36], ['data/processed/seq_001223.jpg', 27], ['data/processed/seq_000276.jpg', 24]]\n"
          ],
          "name": "stdout"
        }
      ]
    },
    {
      "cell_type": "code",
      "metadata": {
        "id": "O4dTSiL-Mj2J",
        "colab_type": "code",
        "colab": {
          "base_uri": "https://localhost:8080/",
          "height": 123
        },
        "outputId": "41125612-bb61-4439-c8e2-7dd147d12a70"
      },
      "source": [
        "import pandas as pd\n",
        "\n",
        "df = pd.DataFrame(dataset, columns=[\"path\", \"count\"])\n",
        "\n",
        "print(df.head())"
      ],
      "execution_count": 8,
      "outputs": [
        {
          "output_type": "stream",
          "text": [
            "                            path  count\n",
            "0  data/processed/seq_001977.jpg     35\n",
            "1  data/processed/seq_001383.jpg     41\n",
            "2  data/processed/seq_000435.jpg     41\n",
            "3  data/processed/seq_001026.jpg     44\n",
            "4  data/processed/seq_000026.jpg     41\n"
          ],
          "name": "stdout"
        }
      ]
    },
    {
      "cell_type": "code",
      "metadata": {
        "id": "6sQ3HBrIMt-P",
        "colab_type": "code",
        "colab": {}
      },
      "source": [
        "df.to_csv(\"data/processed.csv\", index=False)"
      ],
      "execution_count": 0,
      "outputs": []
    },
    {
      "cell_type": "code",
      "metadata": {
        "id": "TDxlu0sQP3Re",
        "colab_type": "code",
        "colab": {
          "base_uri": "https://localhost:8080/",
          "height": 34
        },
        "outputId": "0cbe7d10-083a-4a55-96ca-14018118b457"
      },
      "source": [
        "from sklearn.model_selection import train_test_split\n",
        "\n",
        "train_data, test_data = train_test_split(df, test_size=0.15, random_state=1969)\n",
        "\n",
        "print(train_data.shape, test_data.shape)"
      ],
      "execution_count": 10,
      "outputs": [
        {
          "output_type": "stream",
          "text": [
            "(1700, 2) (300, 2)\n"
          ],
          "name": "stdout"
        }
      ]
    },
    {
      "cell_type": "code",
      "metadata": {
        "id": "qxa6vBi5MyqY",
        "colab_type": "code",
        "colab": {}
      },
      "source": [
        "from tensorflow.keras.preprocessing.image import ImageDataGenerator\n",
        "\n",
        "train_generator = ImageDataGenerator(\n",
        "    rotation_range=360,\n",
        "    rescale=1./255,\n",
        "    horizontal_flip=True,\n",
        "\tvertical_flip=True,\n",
        "    validation_split=0.2\n",
        ")\n",
        "\n",
        "test_generator = ImageDataGenerator(rescale=1./255)"
      ],
      "execution_count": 0,
      "outputs": []
    },
    {
      "cell_type": "code",
      "metadata": {
        "id": "YXY3zAUOPzUm",
        "colab_type": "code",
        "colab": {
          "base_uri": "https://localhost:8080/",
          "height": 52
        },
        "outputId": "730171c9-63af-49e5-b22d-828baae6b76c"
      },
      "source": [
        "train_data_gen = train_generator.flow_from_dataframe(\n",
        "    train_data, \n",
        "    x_col=\"path\", \n",
        "    y_col=\"count\",\n",
        "    target_size=(555,555),\n",
        "    color_mode=\"grayscale\",\n",
        "    class_mode=\"other\",\n",
        "    batch_size=32\n",
        ")\n",
        "\n",
        "test_data_gen = test_generator.flow_from_dataframe(\n",
        "    test_data, \n",
        "    x_col=\"path\", \n",
        "    y_col=\"count\",\n",
        "    target_size=(555,555),\n",
        "    color_mode=\"grayscale\",\n",
        "    class_mode=\"other\",\n",
        "    batch_size=32\n",
        ")"
      ],
      "execution_count": 12,
      "outputs": [
        {
          "output_type": "stream",
          "text": [
            "Found 1700 validated image filenames.\n",
            "Found 300 validated image filenames.\n"
          ],
          "name": "stdout"
        }
      ]
    },
    {
      "cell_type": "code",
      "metadata": {
        "id": "6OjCGV8cR86e",
        "colab_type": "code",
        "colab": {}
      },
      "source": [
        "from tensorflow.keras import Sequential\n",
        "from tensorflow.keras.layers import Conv2D, Dense, Flatten\n",
        "from tensorflow.keras.losses import mean_squared_error\n",
        "\n",
        "model = Sequential()\n",
        "\n",
        "model.add(Conv2D(filters=32, kernel_size=(5,5), padding=\"same\", activation=\"relu\", input_shape=(555,555,1)))\n",
        "model.add(Flatten())\n",
        "model.add(Dense(1))\n",
        "\n",
        "model.compile(loss=mean_squared_error, optimizer=\"adam\")"
      ],
      "execution_count": 0,
      "outputs": []
    },
    {
      "cell_type": "code",
      "metadata": {
        "id": "3hL5MtrgUqMP",
        "colab_type": "code",
        "colab": {
          "base_uri": "https://localhost:8080/",
          "height": 283
        },
        "outputId": "427ceac2-d5d5-4509-9cb7-1d90d6795b77"
      },
      "source": [
        "print(model.summary())"
      ],
      "execution_count": 19,
      "outputs": [
        {
          "output_type": "stream",
          "text": [
            "Model: \"sequential\"\n",
            "_________________________________________________________________\n",
            "Layer (type)                 Output Shape              Param #   \n",
            "=================================================================\n",
            "conv2d (Conv2D)              (None, 555, 555, 32)      832       \n",
            "_________________________________________________________________\n",
            "flatten (Flatten)            (None, 9856800)           0         \n",
            "_________________________________________________________________\n",
            "dense (Dense)                (None, 1)                 9856801   \n",
            "=================================================================\n",
            "Total params: 9,857,633\n",
            "Trainable params: 9,857,633\n",
            "Non-trainable params: 0\n",
            "_________________________________________________________________\n",
            "None\n"
          ],
          "name": "stdout"
        }
      ]
    },
    {
      "cell_type": "code",
      "metadata": {
        "id": "NNJBDiiOU3Qp",
        "colab_type": "code",
        "colab": {
          "base_uri": "https://localhost:8080/",
          "height": 141
        },
        "outputId": "a40f63fb-6661-4564-a499-ac9f15d41a56"
      },
      "source": [
        "model.fit(train_data_gen, epochs=3, steps_per_epoch=1700 // 32)"
      ],
      "execution_count": 24,
      "outputs": [
        {
          "output_type": "stream",
          "text": [
            "Epoch 1/3\n",
            "53/53 [==============================] - 37s 701ms/step - loss: 53.9661\n",
            "Epoch 2/3\n",
            "53/53 [==============================] - 37s 698ms/step - loss: 53.5554\n",
            "Epoch 3/3\n",
            "53/53 [==============================] - 37s 700ms/step - loss: 52.0432\n"
          ],
          "name": "stdout"
        },
        {
          "output_type": "execute_result",
          "data": {
            "text/plain": [
              "<tensorflow.python.keras.callbacks.History at 0x7fea15fb2eb8>"
            ]
          },
          "metadata": {
            "tags": []
          },
          "execution_count": 24
        }
      ]
    },
    {
      "cell_type": "code",
      "metadata": {
        "id": "Sb571TrCVDk1",
        "colab_type": "code",
        "colab": {}
      },
      "source": [
        ""
      ],
      "execution_count": 0,
      "outputs": []
    }
  ]
}